{
 "cells": [
  {
   "cell_type": "markdown",
   "id": "7f1db6ac",
   "metadata": {},
   "source": [
    "#### QUESTION 1: Create a list of 2 strings, 5 floats, 4 intergers and append all these data types into new list called Dtypes.\n"
   ]
  },
  {
   "cell_type": "code",
   "execution_count": 1,
   "id": "1e462f5d",
   "metadata": {},
   "outputs": [
    {
     "data": {
      "text/plain": [
       "['Michelle', 13, 3.4, 'Jasmine', 8.3, 1.9, 5, 8, 7.1, 5.5, 4]"
      ]
     },
     "execution_count": 1,
     "metadata": {},
     "output_type": "execute_result"
    }
   ],
   "source": [
    "# Solution 1\n",
    "Dtypes = []\n",
    "D3 = [\"Michelle\",13,3.4, \"Jasmine\",8.3,1.9,5,8,7.1,5.5,4]\n",
    "for item in D3:\n",
    "    Dtypes.append(item)\n",
    "Dtypes"
   ]
  },
  {
   "cell_type": "markdown",
   "id": "2cdf483d",
   "metadata": {},
   "source": [
    "#### QUESTION 2: Create a list of numbers ranging from 5 with an interval of 2 and the pernultimate number should be 19"
   ]
  },
  {
   "cell_type": "code",
   "execution_count": 4,
   "id": "bc037331",
   "metadata": {},
   "outputs": [
    {
     "data": {
      "text/plain": [
       "[5, 7, 9, 11, 13, 15, 17, 19]"
      ]
     },
     "execution_count": 4,
     "metadata": {},
     "output_type": "execute_result"
    }
   ],
   "source": [
    "# Solution 2\n",
    "New = list()\n",
    "Nums = list(range(5,21,2))\n",
    "Nums"
   ]
  },
  {
   "cell_type": "markdown",
   "id": "b6a1c465",
   "metadata": {},
   "source": [
    "#### QUESTION 3: For numbers in list above, Using the IF ELSE function, Print 'number + it is even' if divisible by 3' else print ' Not even'"
   ]
  },
  {
   "cell_type": "code",
   "execution_count": 8,
   "id": "c635bcef",
   "metadata": {},
   "outputs": [
    {
     "name": "stdout",
     "output_type": "stream",
     "text": [
      "5 : Not even\n",
      "7 : Not even\n",
      "9 : it is even\n",
      "11 : Not even\n",
      "13 : Not even\n",
      "15 : it is even\n",
      "17 : Not even\n",
      "19 : Not even\n"
     ]
    }
   ],
   "source": [
    "# Solution 3\n",
    "for Num in list(range(5,21,2)):\n",
    "    if Num%3 == 0:\n",
    "        print(str(Num) + \" : it is even\" )\n",
    "    else:\n",
    "        print(str(Num) + \" : Not even\" )"
   ]
  },
  {
   "cell_type": "markdown",
   "id": "886b4300",
   "metadata": {},
   "source": [
    "#### QUESTION 4: \n",
    "1. Create a variable ADA\n",
    "2. Create a variable for the number 30\n",
    "3. Print ADA is 30KM from Accra"
   ]
  },
  {
   "cell_type": "code",
   "execution_count": 17,
   "id": "33ebf1ff",
   "metadata": {},
   "outputs": [
    {
     "name": "stdout",
     "output_type": "stream",
     "text": [
      "Ada is 30KM from Accra \n"
     ]
    }
   ],
   "source": [
    "# Solution 4\n",
    "data = 30\n",
    "dangme = \"Ada\"\n",
    "print(dangme + \" is \" + str(data) + \"KM\" +   \" from Accra \" )\n"
   ]
  },
  {
   "cell_type": "markdown",
   "id": "b7795d43",
   "metadata": {},
   "source": [
    "#### Question 5: From the items below,create a list for each data type"
   ]
  },
  {
   "cell_type": "code",
   "execution_count": 53,
   "id": "9e5a9c6d",
   "metadata": {},
   "outputs": [],
   "source": [
    "Essentials = [False,24,'Books','Phone',10.5,'Gh_Cedi','Laptop',True,'Shelter','Food', 15,'Job','54m',20,7.5,23,40,9.0,32,48]"
   ]
  },
  {
   "cell_type": "code",
   "execution_count": 54,
   "id": "01dd7c24",
   "metadata": {},
   "outputs": [
    {
     "ename": "NameError",
     "evalue": "name 'datatype' is not defined",
     "output_type": "error",
     "traceback": [
      "\u001b[1;31m---------------------------------------------------------------------------\u001b[0m",
      "\u001b[1;31mNameError\u001b[0m                                 Traceback (most recent call last)",
      "\u001b[1;32m~\\AppData\\Local\\Temp/ipykernel_9416/2013709594.py\u001b[0m in \u001b[0;36m<module>\u001b[1;34m\u001b[0m\n\u001b[0;32m      1\u001b[0m \u001b[1;31m#### Solution\u001b[0m\u001b[1;33m\u001b[0m\u001b[1;33m\u001b[0m\u001b[0m\n\u001b[0;32m      2\u001b[0m \u001b[0mtype\u001b[0m\u001b[1;33m(\u001b[0m\u001b[0mEssentials\u001b[0m\u001b[1;33m)\u001b[0m\u001b[1;33m\u001b[0m\u001b[1;33m\u001b[0m\u001b[0m\n\u001b[1;32m----> 3\u001b[1;33m \u001b[0mdatatype\u001b[0m\u001b[1;33m[\u001b[0m\u001b[1;32mFalse\u001b[0m\u001b[1;33m]\u001b[0m\u001b[1;33m\u001b[0m\u001b[1;33m\u001b[0m\u001b[0m\n\u001b[0m\u001b[0;32m      4\u001b[0m \u001b[1;33m\u001b[0m\u001b[0m\n",
      "\u001b[1;31mNameError\u001b[0m: name 'datatype' is not defined"
     ]
    }
   ],
   "source": [
    "#### Solution\n",
    "type(Essentials)\n",
    "datatype[False] \n",
    "\n"
   ]
  },
  {
   "cell_type": "markdown",
   "id": "e2d4f19d",
   "metadata": {},
   "source": [
    "#### Question 6: \n",
    "1. Print out the index for Shelter\n",
    "2. Print out the index for the number 20 \n",
    "3. Print out the index for the number 1 \n",
    "4. Delete the item in the 15th index"
   ]
  },
  {
   "cell_type": "code",
   "execution_count": 2,
   "id": "579b288f",
   "metadata": {},
   "outputs": [
    {
     "name": "stdout",
     "output_type": "stream",
     "text": [
      "8\n"
     ]
    }
   ],
   "source": [
    "# Solution 6\n",
    "index = Essentials.index(\"Shelter\")\n",
    "print(index)"
   ]
  },
  {
   "cell_type": "code",
   "execution_count": 4,
   "id": "5f45a79c",
   "metadata": {},
   "outputs": [
    {
     "name": "stdout",
     "output_type": "stream",
     "text": [
      "13\n"
     ]
    }
   ],
   "source": [
    "index = Essentials.index(20)\n",
    "print(index)"
   ]
  },
  {
   "cell_type": "code",
   "execution_count": 6,
   "id": "6a764597",
   "metadata": {},
   "outputs": [
    {
     "name": "stdout",
     "output_type": "stream",
     "text": [
      "7\n"
     ]
    }
   ],
   "source": [
    "index = Essentials.index(1)\n",
    "print(index)"
   ]
  },
  {
   "cell_type": "code",
   "execution_count": 8,
   "id": "38d1a44f",
   "metadata": {},
   "outputs": [
    {
     "data": {
      "text/plain": [
       "23"
      ]
     },
     "execution_count": 8,
     "metadata": {},
     "output_type": "execute_result"
    }
   ],
   "source": [
    "Essentials.pop(15)"
   ]
  },
  {
   "cell_type": "code",
   "execution_count": null,
   "id": "8444224c",
   "metadata": {},
   "outputs": [],
   "source": []
  }
 ],
 "metadata": {
  "kernelspec": {
   "display_name": "Python 3 (ipykernel)",
   "language": "python",
   "name": "python3"
  },
  "language_info": {
   "codemirror_mode": {
    "name": "ipython",
    "version": 3
   },
   "file_extension": ".py",
   "mimetype": "text/x-python",
   "name": "python",
   "nbconvert_exporter": "python",
   "pygments_lexer": "ipython3",
   "version": "3.9.7"
  }
 },
 "nbformat": 4,
 "nbformat_minor": 5
}
